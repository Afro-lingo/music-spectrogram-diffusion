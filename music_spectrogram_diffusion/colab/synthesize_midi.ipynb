{
  "cells": [
    {
      "cell_type": "markdown",
      "metadata": {
        "id": "qYMTUO6J3OG8"
      },
      "source": [
        "#Imports and Definitions"
      ]
    },
    {
      "cell_type": "code",
      "execution_count": null,
      "metadata": {
        "id": "TSMSWDxxWmTS"
      },
      "outputs": [],
      "source": [
        "import functools\n",
        "import os\n",
        "\n",
        "import gin\n",
        "import jax\n",
        "import numpy as np\n",
        "import jax.numpy as jnp\n",
        "import tensorflow.compat.v2 as tf\n",
        "from colabtools import adhoc_import\n",
        "\n",
        "import librosa\n",
        "import note_seq"
      ]
    },
    {
      "cell_type": "code",
      "execution_count": null,
      "metadata": {
        "id": "qcMzp5PiPpzU"
      },
      "outputs": [],
      "source": [
        "from music_spectrogram_diffusion.models.diffusion import models\n",
        "from music_spectrogram_diffusion.models.diffusion import network\n",
        "from music_spectrogram_diffusion.models.diffusion import feature_converters\n",
        "from music_spectrogram_diffusion import datasets\n",
        "from music_spectrogram_diffusion import inference\n",
        "from music_spectrogram_diffusion import metrics\n",
        "from music_spectrogram_diffusion import note_sequences\n",
        "from music_spectrogram_diffusion import preprocessors\n",
        "from music_spectrogram_diffusion import run_length_encoding\n",
        "from music_spectrogram_diffusion import audio_codecs\n",
        "from music_spectrogram_diffusion import tasks\n",
        "from music_spectrogram_diffusion import vocabularies\n",
        "\n",
        "import seqio\n",
        "import t5\n",
        "import t5x\n",
        "\n",
        "from t5x import adafactor\n",
        "from t5x import adafactor\n",
        "from t5x import gin_utils\n",
        "from t5x import partitioning\n",
        "from t5x import trainer\n",
        "from t5x import utils\n",
        "\n",
        "from ddsp.colab.colab_utils import upload,  play, specplot\n",
        "import matplotlib.pyplot as plt\n",
        "\n",
        "SAMPLE_RATE = 16000"
      ]
    },
    {
      "cell_type": "code",
      "execution_count": null,
      "metadata": {
        "id": "BSF2mJVLVL4U"
      },
      "outputs": [],
      "source": [
        "# copy soundfont (originally from https://sites.google.com/site/soundfonts4u)\n",
        "!gsutil -q -m cp gs://magentadata/soundfonts/SGM-v2.01-Sal-Guit-Bass-V1.3.sf2 .\n",
        "LOCAL_SF2_PATH = 'SGM-v2.01-Sal-Guit-Bass-V1.3.sf2'"
      ]
    },
    {
      "cell_type": "markdown",
      "metadata": {
        "id": "eyTSAD7X4c_O"
      },
      "source": [
        "# Load Model"
      ]
    },
    {
      "cell_type": "code",
      "execution_count": null,
      "metadata": {
        "id": "Y4QXxYlTtWem"
      },
      "outputs": [],
      "source": [
        "checkpoint_path = (\n",
        "  # base w/ context - 1024 fft\n",
        "  # TODO(fjord)\n",
        ")\n"
      ]
    },
    {
      "cell_type": "code",
      "execution_count": null,
      "metadata": {
        "id": "ODZcr3Yo6Waj"
      },
      "outputs": [],
      "source": [
        "gin_overrides = [\n",
        "    \"from __gin__ import dynamic_registration\",\n",
        "    \"from music_spectrogram_diffusion.models.diffusion import diffusion_utils\",\n",
        "    \"diffusion_utils.ClassifierFreeGuidanceConfig.eval_condition_weight = 2.0\",\n",
        "    \"diffusion_utils.DiffusionConfig.classifier_free_guidance = @diffusion_utils.ClassifierFreeGuidanceConfig()\"\n",
        "]"
      ]
    },
    {
      "cell_type": "code",
      "execution_count": null,
      "metadata": {
        "id": "YEgmk_cA5KsP"
      },
      "outputs": [],
      "source": [
        "gin_file = os.path.join(checkpoint_path, '..', 'config.gin')\n",
        "gin_config = inference.parse_training_gin_file(gin_file, gin_overrides)\n",
        "synth_model = inference.InferenceModel(checkpoint_path, gin_config)"
      ]
    },
    {
      "cell_type": "markdown",
      "metadata": {
        "id": "EqaQ4qaeLKTt"
      },
      "source": [
        "# Upload MIDI File"
      ]
    },
    {
      "cell_type": "code",
      "execution_count": null,
      "metadata": {
        "id": "EgfSyUu9LMyV"
      },
      "outputs": [],
      "source": [
        "files = %upload_files\n",
        "assert len(files) == 1\n",
        "\n",
        "midi_data = list(files.values())[0]\n",
        "ns = note_seq.midi_to_note_sequence(midi_data)\n",
        "\n",
        "note_seq.play_sequence(\n",
        "    ns, synth=note_seq.midi_synth.fluidsynth, sf2_path=LOCAL_SF2_PATH,\n",
        "    sample_rate=SAMPLE_RATE)\n",
        "note_seq.plot_sequence(ns)"
      ]
    },
    {
      "cell_type": "markdown",
      "metadata": {
        "id": "AU1ue6Z7mtsC"
      },
      "source": [
        "# Define Task"
      ]
    },
    {
      "cell_type": "code",
      "execution_count": null,
      "metadata": {
        "id": "pBIzsGBBmqLz"
      },
      "outputs": [],
      "source": [
        "vocabulary = vocabularies.vocabulary_from_codec(synth_model.codec)\n",
        "note_representation_config = tasks.NoteRepresentationConfig(\n",
        "          onsets_only=False, include_ties=True)\n",
        "\n",
        "# TODO(iansimon): add this to preprocessors.py once it's less hacky\n",
        "def program_to_slakh_program(program):\n",
        "  # this is done very hackily, probably should use a custom mapping\n",
        "  for slakh_program in sorted(preprocessors._SLAKH_CLASS_PROGRAMS.values(),\n",
        "                              reverse=True):\n",
        "    if program \u003e= slakh_program:\n",
        "      return slakh_program\n",
        "\n",
        "def create_dataset(split, shuffle_files):\n",
        "  del split\n",
        "  del shuffle_files\n",
        "  ns_sus = note_seq.apply_sustain_control_changes(ns)\n",
        "  for note in ns_sus.notes:\n",
        "    if not note.is_drum:\n",
        "      note.program = program_to_slakh_program(note.program)\n",
        "  samples = np.zeros(\n",
        "      int(ns_sus.total_time * synth_model.audio_codec.sample_rate))  \n",
        "  frames, frame_times = preprocessors._audio_to_frames(\n",
        "      samples,\n",
        "      synth_model.audio_codec.hop_size,\n",
        "      synth_model.audio_codec.frame_rate)\n",
        "  times, values = (\n",
        "      note_sequences.note_sequence_to_onsets_and_offsets_and_programs(ns_sus))\n",
        "  (events, event_start_indices, event_end_indices,\n",
        "   state_events, state_event_indices) = (\n",
        "       run_length_encoding.encode_and_index_events(\n",
        "           state=note_sequences.NoteEncodingState(),\n",
        "           event_times=times,\n",
        "           event_values=values,\n",
        "           encode_event_fn=note_sequences.note_event_data_to_events,\n",
        "           codec=synth_model.codec,\n",
        "           frame_times=frame_times,\n",
        "           encoding_state_to_events_fn=(\n",
        "               note_sequences.note_encoding_state_to_events)))\n",
        "  return tf.data.Dataset.from_tensors({\n",
        "        'inputs': frames,\n",
        "        'input_times': frame_times.astype(np.float32),\n",
        "        'targets': events.astype(np.int32),\n",
        "        'event_start_indices': event_start_indices.astype(np.int32),\n",
        "        'event_end_indices': event_end_indices.astype(np.int32),\n",
        "        'state_events': state_events.astype(np.int32),\n",
        "        'state_event_indices': state_event_indices.astype(np.int32),\n",
        "        'sequence': ns_sus.SerializeToString()\n",
        "  })\n",
        "\n",
        "infer_task = seqio.Task(\n",
        "    name='infer_full_song',\n",
        "    source=seqio.FunctionDataSource(\n",
        "        create_dataset,\n",
        "        splits=['eval'],\n",
        "        num_input_examples={'eval': 1}),\n",
        "    output_features={\n",
        "        'inputs': seqio.Feature(vocabulary=vocabulary),\n",
        "        'targets': seqio.ContinuousFeature(dtype=tf.float32, rank=2),\n",
        "        'targets_context': seqio.ContinuousFeature(dtype=tf.float32, rank=2),\n",
        "    },\n",
        "    # just take one sequence\n",
        "    preprocessors=tasks.pre_cache_processor_chain(\n",
        "        audio_codec=synth_model.audio_codec,\n",
        "        codec=synth_model.codec,\n",
        "        tokenize_fn=lambda ds, **kwargs: ds,\n",
        "        note_representation_config=note_representation_config,\n",
        "        split_sequences=False\n",
        "    ) + tasks.split_full_song_processor_chain(\n",
        "            audio_codec=synth_model.audio_codec,\n",
        "            feature_context_key='targets_context'\n",
        "    ) + tasks.note_representation_processor_chain(\n",
        "            codec=synth_model.codec,\n",
        "            note_representation_config=note_representation_config\n",
        "    ) + [\n",
        "        functools.partial(\n",
        "            preprocessors.encode_audio,\n",
        "            targets_keys=['targets'],\n",
        "            context_keys=['targets_context'],\n",
        "            keys_to_pad=None,\n",
        "            audio_codec=synth_model.audio_codec),\n",
        "        functools.partial(preprocessors.handle_too_long, skip=False),\n",
        "        functools.partial(\n",
        "            seqio.preprocessors.tokenize_and_append_eos,\n",
        "            copy_pretokenized=True)\n",
        "    ])\n",
        "\n",
        "infer_ds = infer_task.get_dataset(\n",
        "    sequence_length=synth_model.sequence_length,\n",
        "    split='eval',\n",
        "    use_cached=False, shuffle=False)\n",
        "\n",
        "infer_ds_raw_batches = infer_ds.batch(1)\n",
        "infer_ds_feats = synth_model.model.FEATURE_CONVERTER_CLS(pack=False)(\n",
        "    infer_ds, synth_model.sequence_length)\n",
        "infer_ds_batches = infer_ds_feats.batch(1)\n"
      ]
    },
    {
      "cell_type": "markdown",
      "metadata": {
        "id": "3nnMCFazdehA"
      },
      "source": [
        "# Synthesize Entire Song"
      ]
    },
    {
      "cell_type": "code",
      "execution_count": null,
      "metadata": {
        "colab": {
          "height": 1000
        },
        "executionInfo": {
          "elapsed": 250813,
          "status": "ok",
          "timestamp": 1654809978404,
          "user": {
            "displayName": "",
            "userId": ""
          },
          "user_tz": 420
        },
        "id": "0izOmp4feP7i",
        "outputId": "26ce9da5-513a-46ff-e927-0b9c34bfd6ce"
      },
      "outputs": [
        {
          "name": "stdout",
          "output_type": "stream",
          "text": [
            "generated 1 segments\n",
            "generated 2 segments\n",
            "generated 3 segments\n",
            "generated 4 segments\n",
            "generated 5 segments\n",
            "generated 6 segments\n",
            "generated 7 segments\n",
            "generated 8 segments\n",
            "generated 9 segments\n",
            "generated 10 segments\n",
            "generated 11 segments\n",
            "generated 12 segments\n",
            "generated 13 segments\n",
            "generated 14 segments\n",
            "generated 15 segments\n",
            "generated 16 segments\n",
            "generated 17 segments\n",
            "generated 18 segments\n",
            "generated 19 segments\n",
            "generated 20 segments\n",
            "generated 21 segments\n",
            "generated 22 segments\n",
            "generated 23 segments\n",
            "generated 24 segments\n",
            "generated 25 segments\n",
            "generated 26 segments\n",
            "generated 27 segments\n",
            "generated 28 segments\n",
            "generated 29 segments\n",
            "generated 30 segments\n",
            "generated 31 segments\n",
            "generated 32 segments\n",
            "generated 33 segments\n",
            "generated 34 segments\n",
            "generated 35 segments\n",
            "generated 36 segments\n",
            "generated 37 segments\n",
            "generated 38 segments\n",
            "generated 39 segments\n",
            "generated 40 segments\n",
            "generated 41 segments\n",
            "generated 42 segments\n",
            "generated 43 segments\n",
            "generated 44 segments\n",
            "generated 45 segments\n",
            "generated 46 segments\n",
            "generated 47 segments\n",
            "generated 48 segments\n",
            "generated 49 segments\n",
            "generated 50 segments\n",
            "generated 51 segments\n"
          ]
        },
        {
          "data": {
            "text/html": [
              "\u003cdiv id=\"id_8\"\u003e \u003c/div\u003e"
            ],
            "text/plain": [
              "\u003cIPython.core.display.HTML object\u003e"
            ]
          },
          "metadata": {},
          "output_type": "display_data"
        },
        {
          "data": {
            "image/png": "[encoded data removed]",
            "text/plain": [
              "\u003cFigure size 1600x200 with 1 Axes\u003e"
            ]
          },
          "metadata": {},
          "output_type": "display_data"
        }
      ],
      "source": [
        "# Initialize previous prediction to zeros.\n",
        "# We'll zero out the mask for the first prediction, so the value here doesn't\n",
        "# matter.\n",
        "pred_mel = np.zeros([1, synth_model.sequence_length['targets_context'],\n",
        "                     synth_model.audio_codec.n_dims])\n",
        "\n",
        "# Variables for accumulating the full song prediction.\n",
        "full_pred_mel = np.zeros([1, 0, synth_model.audio_codec.n_dims], np.float32)\n",
        "\n",
        "# Iterators over the dataset.\n",
        "infer_ds_batches_iter = infer_ds_batches.as_numpy_iterator()\n",
        "\n",
        "i = 0\n",
        "while True:\n",
        "  try:\n",
        "    batch = next(infer_ds_batches_iter)\n",
        "    # TODO(fjord): put the first-chunk logic into a library function\n",
        "    batch['encoder_continuous_inputs'] = pred_mel[:1]\n",
        "    if i == 0:\n",
        "      # The first chunk has no previous context.\n",
        "      batch['encoder_continuous_mask'] = np.zeros_like(\n",
        "          batch['encoder_continuous_mask'])\n",
        "    else:\n",
        "      # The full song pipeline does not feed in a context feature, so the mask\n",
        "      # will be all 0s after the feature converter. Because we know we're\n",
        "      # feeding in a full context chunk from the previous prediction, set it\n",
        "      # to all 1s.\n",
        "      batch['encoder_continuous_mask'] = np.ones_like(\n",
        "          batch['encoder_continuous_mask'])\n",
        "    # it wants batch size divisible by 8 on TPU...\n",
        "    for key in batch:\n",
        "      batch[key] = np.tile(batch[key], [8] + [1] * (batch[key].ndim - 1))\n",
        "    pred_mel, scores = synth_model.predict(batch)\n",
        "    full_pred_mel = np.concatenate([full_pred_mel, pred_mel[:1]], axis=1)\n",
        "    i += 1\n",
        "    print('generated %d segments' % i)\n",
        "  except StopIteration:\n",
        "    break\n",
        "\n",
        "full_pred_audio = synth_model.audio_codec.decode(full_pred_mel)\n",
        "\n",
        "plt.matshow(np.rot90(full_pred_mel[0]))\n",
        "play(full_pred_audio)"
      ]
    }
  ],
  "metadata": {
    "accelerator": "GPU",
    "colab": {
      "collapsed_sections": [],
      "last_runtime": {
        "kind": "private"
      },
      "name": "Synthesis from MIDI",
      "toc_visible": true
    },
    "kernelspec": {
      "display_name": "Python 3",
      "name": "python3"
    }
  },
  "nbformat": 4,
  "nbformat_minor": 0
}
